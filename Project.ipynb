{
 "cells": [
  {
   "cell_type": "markdown",
   "id": "8a936bcb",
   "metadata": {},
   "source": [
    "# My Jupyter Notebook on IBM Watson Studio"
   ]
  },
  {
   "cell_type": "markdown",
   "id": "bdcc93cf",
   "metadata": {},
   "source": [
    "**Jeffrey Clinton**  \n",
    "<br/> ALL"
   ]
  },
  {
   "cell_type": "markdown",
   "id": "10f4378e",
   "metadata": {},
   "source": [
    "*I am interested in data science because of the opportunities if can offer in the future.*"
   ]
  },
  {
   "cell_type": "markdown",
   "id": "48ae3372",
   "metadata": {},
   "source": [
    "### Add Two Numbers"
   ]
  },
  {
   "cell_type": "code",
   "execution_count": 17,
   "id": "f20cd8e3",
   "metadata": {},
   "outputs": [
    {
     "name": "stdout",
     "output_type": "stream",
     "text": [
      "The sum of 3.1 and 2.3 is 5.4\n"
     ]
    }
   ],
   "source": [
    "num1 = 3.1\n",
    "num2 = 2.3\n",
    "\n",
    "sum = num1 + num2\n",
    "\n",
    "print('The sum of {0} and {1} is {2}'.format(num1, num2, sum))"
   ]
  },
  {
   "cell_type": "markdown",
   "id": "edadc00f",
   "metadata": {},
   "source": [
    "- bulleted list\n",
    "1. numbered list\n",
    "<br/>\n",
    "\n",
    "__[CHYPHNX](https://www.chyphnx.com)\n"
   ]
  },
  {
   "cell_type": "code",
   "execution_count": null,
   "id": "79d7e82e",
   "metadata": {},
   "outputs": [],
   "source": []
  }
 ],
 "metadata": {
  "kernelspec": {
   "display_name": "Python",
   "language": "python",
   "name": "conda-env-python-py"
  },
  "language_info": {
   "codemirror_mode": {
    "name": "ipython",
    "version": 3
   },
   "file_extension": ".py",
   "mimetype": "text/x-python",
   "name": "python",
   "nbconvert_exporter": "python",
   "pygments_lexer": "ipython3",
   "version": "3.7.12"
  }
 },
 "nbformat": 4,
 "nbformat_minor": 5
}
